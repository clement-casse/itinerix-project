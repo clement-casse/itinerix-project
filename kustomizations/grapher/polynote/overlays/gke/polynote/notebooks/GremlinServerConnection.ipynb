{
  "metadata" : {
    "config" : {
      "dependencies" : {
        "scala" : [
          "org.apache.tinkerpop:tinkergraph-gremlin:3.4.7",
          "org.apache.tinkerpop:gremlin-driver:3.4.7",
          "com.michaelpollmeier:gremlin-scala_2.12:3.4.7.2"
        ]
      },
      "exclusions" : [
      ],
      "repositories" : [
      ],
      "sparkConfig" : {
        
      },
      "env" : {
        
      }
    },
    "language_info" : {
      "name" : "scala"
    }
  },
  "nbformat" : 4,
  "nbformat_minor" : 0,
  "cells" : [
    {
      "cell_type" : "markdown",
      "execution_count" : 0,
      "metadata" : {
        "language" : "text"
      },
      "language" : "text",
      "source" : [
        "# GremlinServerConnection\n",
        "\n",
        "\n",
        "This example notebook shows how to persist graph in a gremlin server.\n",
        "\n",
        "Inspired by examples of Michael Pollmeier [https://github.com/mpollmeier/gremlin-scala-examples/blob/master/gremlin-server/src/test/scala/SimpleSpec.scala]<br>"
      ],
      "outputs" : [
      ]
    },
    {
      "cell_type" : "markdown",
      "execution_count" : 1,
      "metadata" : {
        "language" : "text"
      },
      "language" : "text",
      "source" : [
        "<div><p>The target gremlin server is configured with Neo4j as graph storage, however we only use gremlin websocket connection in that example, nothing here requires having a Neo4j graph listening the bolt protocol. Compatibility with Cypher and integration of Standard Neo4j driver will be shown in\n",
        " another Notebook.</p><p>This example imports serializers that fits Gremlin Server configuration.</p><p>Beware of the misleading name: EmptyGraph, graph data is persisted within Gremlin Server, the function <code>withRemote()</code> ensures the graph is loaded into the so called in-memory-<code>EmptyGraph</code>.</p><p>Declaring the <code>graph</code> variable as <b>implicit </b>to be automatically called by <code>gremlin.scala._</code> throughout the notebook (#justScalaThings).<br></p></div>"
      ],
      "outputs" : [
      ]
    },
    {
      "cell_type" : "code",
      "execution_count" : 2,
      "metadata" : {
        "cell.metadata.exec_info" : {
          "startTs" : 1598279942098,
          "endTs" : 1598279952031
        },
        "language" : "scala"
      },
      "language" : "scala",
      "source" : [
        "import gremlin.scala._\n",
        "\n",
        "import org.apache.tinkerpop.gremlin.driver.Cluster\n",
        "import org.apache.tinkerpop.gremlin.driver.remote.DriverRemoteConnection\n",
        "import org.apache.tinkerpop.gremlin.driver.ser.GryoMessageSerializerV3d0\n",
        "import org.apache.tinkerpop.gremlin.structure.io.gryo.GryoMapper \n",
        "import org.apache.tinkerpop.gremlin.structure.util.empty.EmptyGraph\n",
        "import org.apache.tinkerpop.gremlin.tinkergraph.structure.TinkerIoRegistryV3d0\n",
        "\n",
        "val serializer = new GryoMessageSerializerV3d0(\n",
        "    GryoMapper.build.addRegistry(TinkerIoRegistryV3d0.instance)\n",
        ")\n",
        "\n",
        "val cluster = Cluster\n",
        "                .build\n",
        "                .addContactPoint(\"gremlinserver-neo4j\")\n",
        "                .port(8182)\n",
        "                .serializer(serializer)\n",
        "                .create\n",
        "\n",
        "implicit val graph = EmptyGraph.instance.asScala.configure(_.withRemote(DriverRemoteConnection.using(cluster)))"
      ],
      "outputs" : [
      ]
    },
    {
      "cell_type" : "markdown",
      "execution_count" : 3,
      "metadata" : {
        "language" : "text"
      },
      "language" : "text",
      "source" : [
        "<div>This is not pure programming here: all operations are made against the graph stored in the gremlin server.<br></div>"
      ],
      "outputs" : [
      ]
    },
    {
      "cell_type" : "code",
      "execution_count" : 4,
      "metadata" : {
        "cell.metadata.exec_info" : {
          "startTs" : 1598279954717,
          "endTs" : 1598279960707
        },
        "language" : "scala"
      },
      "language" : "scala",
      "source" : [
        "val Name = Key[String](\"name\")\n",
        "val Planet = \"planet\"\n",
        "\n",
        "val saturn: Vertex = graph + (Planet, Name -> \"saturn\")\n",
        "val sun   : Vertex = graph + (Planet, Name -> \"sun\")\n",
        "\n",
        "saturn --- \"orbits\" --> sun"
      ],
      "outputs" : [
        {
          "execution_count" : 4,
          "data" : {
            "text/plain" : [
              "e[0][0-orbits->1]"
            ]
          },
          "metadata" : {
            "name" : "Out",
            "type" : "Edge"
          },
          "output_type" : "execute_result"
        }
      ]
    },
    {
      "cell_type" : "code",
      "execution_count" : 5,
      "metadata" : {
        "cell.metadata.exec_info" : {
          "startTs" : 1598279962887,
          "endTs" : 1598279965386
        },
        "language" : "scala"
      },
      "language" : "scala",
      "source" : [
        "val nodes = graph.V.value(Name).toList\n",
        "val edges = graph.E.toList"
      ],
      "outputs" : [
      ]
    },
    {
      "cell_type" : "markdown",
      "execution_count" : 6,
      "metadata" : {
        "language" : "text"
      },
      "language" : "text",
      "source" : [
        "<u><b>@TODO Add a working vegaSpec example displaying the gremlin graph !</b></u><br>"
      ],
      "outputs" : [
      ]
    },
    {
      "cell_type" : "code",
      "execution_count" : 7,
      "metadata" : {
        "cell.metadata.exec_info" : {
          "startTs" : 1598279975042,
          "endTs" : 1598279977887
        },
        "language" : "scala"
      },
      "language" : "scala",
      "source" : [
        "cluster.close()"
      ],
      "outputs" : [
      ]
    },
    {
      "cell_type" : "code",
      "execution_count" : 8,
      "metadata" : {
        "language" : "scala"
      },
      "language" : "scala",
      "source" : [
      ],
      "outputs" : [
      ]
    }
  ]
}