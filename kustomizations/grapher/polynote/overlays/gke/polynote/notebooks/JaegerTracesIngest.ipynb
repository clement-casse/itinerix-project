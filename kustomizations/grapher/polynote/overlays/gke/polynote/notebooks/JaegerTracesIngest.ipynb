{
  "metadata" : {
    "config" : {
      "dependencies" : {
        "scala" : [
          "org.apache.tinkerpop:tinkergraph-gremlin:3.4.7",
          "com.michaelpollmeier:gremlin-scala_2.12:3.4.7.1",
          "io.jaegertracing:jaeger-tracedsl:jar:0.4.0",
          "io.jaegertracing:jaeger-proto:jar:0.4.0",
          "io.jaegertracing:jaeger-spark:jar:0.4.0"
        ]
      },
      "exclusions" : [
      ],
      "repositories" : [
      ],
      "sparkConfig" : {
        
      },
      "env" : {
        
      }
    },
    "language_info" : {
      "name" : "scala"
    }
  },
  "nbformat" : 4,
  "nbformat_minor" : 0,
  "cells" : [
    {
      "cell_type" : "markdown",
      "execution_count" : 0,
      "metadata" : {
        "language" : "text"
      },
      "language" : "text",
      "source" : [
        "# JaegerTracesIngest\n",
        "\n",
        "<div>In this Notebook the procedure of retrieving Jaeger Data from protobuf API v_2 is illustrated and explained step by step. The following code is a Scala translation/adaptation of the code of the officiel Java Library Jaeger-Data-Analytics.</div><div><br></div><div>The main role of this notebook is to illustrate how to create a Data model that fits our needs from Jaeger API, it does not cover graph creation and metric extraction from traces (yet ?).<br></div>"
      ],
      "outputs" : [
      ]
    },
    {
      "cell_type" : "markdown",
      "execution_count" : 1,
      "metadata" : {
        "language" : "text"
      },
      "language" : "text",
      "source" : [
        "## Connection with Jaeger Instance\n",
        "\n",
        "\n",
        "<div><div>Establish a connection with the <u>gRPC API v2</u> of the Jaeger Instance instance installed in the namespace (reachable via the service <code>jaeger-query</code> on port <code>16686</code> behind the path <code>/jaeger</code>).</div><div><br></div><div>Some useful links:<br></div><ul><li><b>A brief overview of Jaeger APIs:</b> [https://www.jaegertracing.io/docs/1.18/apis/#grpcprotobuf-stable]</li><li><b>Jaeger gRPC API Proto Definition</b>: [https://github.com/jaegertracing/jaeger-idl/blob/master/proto/api_v2/query.proto]</li><li><b>The Java library for Jaeger Data Analytics</b>: [https://github.com/jaegertracing/jaeger-analytics-java]</li><li><b>Reference Jupyter Notebook</b>: [https://github.com/jaegertracing/jaeger-analytics-java/blob/master/jupyter/jaeger-query.ipynb]</li></ul></div>We create a gRPC channel with Jaeger API v2 and create a **Trace Request** on the root service that will be run in the rest of the Notebook.<br>\n"
      ],
      "outputs" : [
      ]
    },
    {
      "cell_type" : "code",
      "execution_count" : 2,
      "metadata" : {
        "cell.metadata.exec_info" : {
          "startTs" : 1598857208252,
          "endTs" : 1598857216725
        },
        "language" : "scala"
      },
      "language" : "scala",
      "source" : [
        "import com.google.protobuf.ByteString\n",
        "import io.grpc.{ManagedChannel, ManagedChannelBuilder}\n",
        "import io.jaegertracing.api_v2.Model.{Span => ProtoSpan}\n",
        "import io.jaegertracing.api_v2.Query._\n",
        "import io.jaegertracing.api_v2.QueryServiceGrpc\n",
        "import io.jaegertracing.api_v2.QueryServiceGrpc.QueryServiceBlockingStub\n",
        "\n",
        "import collection.JavaConverters._\n",
        "\n",
        "val queryHostPort = \"jaeger-query.monitoring.svc.cluster.local:16686/jaeger\"\n",
        "val appRootSvc = \"frontend\"\n",
        "\n",
        "val channel = ManagedChannelBuilder\n",
        "                .forTarget(queryHostPort)\n",
        "                .usePlaintext\n",
        "                .build\n",
        "\n",
        "val queryService = QueryServiceGrpc.newBlockingStub(channel)\n",
        "\n",
        "val query = TraceQueryParameters\n",
        "                .newBuilder\n",
        "                .setServiceName(appRootSvc)\n",
        "                .build\n",
        "\n",
        "val jaegerTraceRequest = FindTracesRequest\n",
        "                .newBuilder\n",
        "                .setQuery(query)\n",
        "                .build\n",
        "\n",
        "val spanIterator: Iterator[ProtoSpan] = for { \n",
        "    spanChunks <- queryService.findTraces(jaegerTraceRequest).asScala\n",
        "    protoSpan  <- spanChunks.getSpansList.asScala\n",
        "} yield protoSpan"
      ],
      "outputs" : [
      ]
    },
    {
      "cell_type" : "markdown",
      "execution_count" : 3,
      "metadata" : {
        "language" : "text"
      },
      "language" : "text",
      "source" : [
        "## Mapping ProtoBuf data to Standard Java/Scala API<br>\n",
        "\n",
        "This object `Converter` is the Scala transposition to my own needs of the `Converter` class defined in `io.jaegertracing.analytics.model`.\n",
        "\n",
        "\n",
        "Then we define an object named `Converter` that hold helper functions translating protobuf objects into Java objects. Target Java Objects are compatible with JVM 8 (matching Scala version of the notebook) and are native java objects (instead of Scala). This will parse:\n",
        "\n",
        "\n",
        "* Jaeger *SpanIDs* and *TracesIDs* as `String`\n",
        "* Protobuf Timestamps as `LocalDateTime`\n",
        "* *Jaeger Tags* (typed Key-Value tuples) into `Map[String, String]`\n",
        "* *Jaeger Span References* into `Tuple3(String, String, String)` where: ****\n",
        "   * the** first item represents TraceID**\n",
        "   * the** second SpanID**\n",
        "   * the** third the type** of Relationship (either \"CHILD_OF\" or \"FOLLOWS_FROM\")\n",
        "\n",
        "\n",
        "> \n",
        "> <div>Note: Target Types of the conversions is designed to be compatible with as much gremlin backends as possible, especially the Neo4j-one (tests are still to do)<br></div>\n",
        "> \n",
        "\n",
        "\n"
      ],
      "outputs" : [
      ]
    },
    {
      "cell_type" : "code",
      "execution_count" : 4,
      "metadata" : {
        "cell.metadata.exec_info" : {
          "startTs" : 1598857225085,
          "endTs" : 1598857227994
        },
        "language" : "scala"
      },
      "language" : "scala",
      "source" : [
        "import com.google.protobuf.{Timestamp => ProtoTimestamp, Duration => ProtoDuration, ByteString => ProtoByteString}\n",
        "import io.jaegertracing.api_v2.Model.{KeyValue, ValueType, SpanRef, SpanRefType}\n",
        "import io.jaegertracing.analytics.model.{Converter => JaegerBaseConverter}\n",
        "\n",
        "import java.time.{LocalDateTime, ZoneOffset, Duration}\n",
        "import java.util.{List => JList}\n",
        "\n",
        "object Converter {\n",
        "    def toStringId(pBs: ProtoByteString): String = JaegerBaseConverter.toStringId(pBs)\n",
        "\n",
        "    def toLocalDateTime(pTs: ProtoTimestamp): LocalDateTime = LocalDateTime.ofEpochSecond(pTs.getSeconds, pTs.getNanos, ZoneOffset.UTC)\n",
        "\n",
        "    def toDuration(pDur: ProtoDuration): Duration = Duration.ofSeconds(pDur.getSeconds, pDur.getNanos)\n",
        "\n",
        "    // Rewriting this method as it is defined as Private in JaegerBaseConverter\n",
        "    def toMap(kvs: JList[KeyValue]): Map[String, String] = {\n",
        "        for { kv <- kvs.asScala } yield kv.getVType match {\n",
        "            case ValueType.STRING  => (kv.getKey, kv.getVStr)\n",
        "            case ValueType.BOOL    => (kv.getKey, kv.getVBool.toString)\n",
        "            case ValueType.INT64   => (kv.getKey, kv.getVInt64.toString)\n",
        "            case ValueType.FLOAT64 => (kv.getKey, kv.getVFloat64.toString)\n",
        "            case ValueType.BINARY  => (kv.getKey, kv.getVBinary.toStringUtf8)\n",
        "            case _                 => (kv.getKey, \"unrecognized\")\n",
        "        }\n",
        "    }.toMap\n",
        "\n",
        "    def toTuples3(srs: JList[SpanRef]): List[(String, String, String)] = {\n",
        "        for { sr <- srs.asScala } yield sr.getRefType match {\n",
        "            case SpanRefType.CHILD_OF     => (toStringId(sr.getTraceId), toStringId(sr.getSpanId), \"CHILD_OF\")\n",
        "            case SpanRefType.FOLLOWS_FROM => (toStringId(sr.getTraceId), toStringId(sr.getSpanId), \"FOLLOWS_FROM\")\n",
        "            case _                        => (toStringId(sr.getTraceId), toStringId(sr.getSpanId), \"unrecognized\")\n",
        "        }\n",
        "    }.toList\n",
        "}"
      ],
      "outputs" : [
      ]
    },
    {
      "cell_type" : "markdown",
      "execution_count" : 5,
      "metadata" : {
        "language" : "text"
      },
      "language" : "text",
      "source" : [
        "## Definition of the *Analytics Trace-Data-Model*\n",
        "\n",
        "\n",
        "> \n",
        "> This model is far from being mature and designed to fit my personal needs regarding the data Analytics I do. It shall be perceived as a seed, a starting point, to create your own model. Unlike, the model defined in Jaeger analytics Java library, this model does not cover the notion of Logs or Events (yet ?)\n",
        "> \n",
        "> \n",
        "> \n",
        "\n",
        "\n",
        "We define a set of Scala classes modeling *Jaeger* Traces, they will be used as Label in our future property graph and are instantiated from protobuf data. In general terms the model cans be summed up by the following statement:\n",
        "\n",
        "> In *OpenTelemetry*, Traces are made of a DAG of Spans, each of these Spans represent the latency measurement of a single Operation executed on a particular Resource.\n",
        "> \n",
        "> \n",
        "\n",
        "\n",
        "Class defined are :\n",
        "\n",
        "\n",
        "* `Operation`: This class models the concept of Operation that are shared among Spans in a Trace.<br>\n",
        "* `Resource`: This class represents instances executing of a program, thus costing resources. OpenTelemetry Resource semntic is defined at https://github.com/open-telemetry/opentelemetry-specification/blob/v0.6.0/specification/resource/semantic_conventions/README.md<br>\n",
        "* `Span`: In *OpenTelemetry* Spans are the representation of the latency measurement (at a given *startTime* there is an associated operation *duration*), they bring also other relevant numerical data, like, for example, the number of byte exchanged over the network. *OpenTelemetry* definition of Span can be found at : https://github.com/open-telemetry/opentelemetry-specification/blob/v0.6.0/specification/trace/api.md#span<br>\n",
        "* `Trace`: Trace is the aggregation of Spans characterizing the propagation of Remote Procedure Calls or other network calls in a distributed system, this spans build a Directed Acyclic Dependency Graph of Resources.\n",
        "\n",
        "<div>Each class defines a <i>static</i> .<code>of()</code> method used to wrap the constructor with Protobuf data pre-processing, thus allowing to create model instances directly from API data.<br></div>\n",
        "\n",
        "\n"
      ],
      "outputs" : [
      ]
    },
    {
      "cell_type" : "code",
      "execution_count" : 6,
      "metadata" : {
        "cell.metadata.exec_info" : {
          "startTs" : 1598857229614,
          "endTs" : 1598857234590
        },
        "language" : "scala"
      },
      "language" : "scala",
      "source" : [
        "import io.jaegertracing.api_v2.Model.{Span => ProtoSpan, SpanRef, SpanRefType}\n",
        "\n",
        "\n",
        "// Definition of Operation\n",
        "case class Operation(name: String)\n",
        "\n",
        "object Operation {\n",
        "    def apply(name: String) = new Operation(name)\n",
        "\n",
        "    def of(ps: ProtoSpan): Operation = this.apply(ps.getOperationName)\n",
        "}\n",
        "\n",
        "// Defitinion of Reference pointers used in Spans\n",
        "case class ReferenceId(traceId: String, spanId: String, name: String)\n",
        "\n",
        "object ReferenceId {\n",
        "    def apply(traceId: String, spanId: String, name: String): ReferenceId = \n",
        "        new ReferenceId(traceId, spanId, name)\n",
        "    \n",
        "    def of(tuple3: (String, String, String)): ReferenceId = \n",
        "        this.apply(traceId=tuple3._1, spanId=tuple3._2, name=tuple3._3)\n",
        "    \n",
        "    def of(sr: SpanRef): ReferenceId = sr.getRefType match {\n",
        "        case SpanRefType.CHILD_OF => \n",
        "            this.apply(Converter.toStringId(sr.getTraceId), Converter.toStringId(sr.getSpanId), \"CHILD_OF\")\n",
        "        case SpanRefType.FOLLOWS_FROM => \n",
        "            this.apply(Converter.toStringId(sr.getTraceId), Converter.toStringId(sr.getSpanId), \"FOLLOWS_FROM\")\n",
        "        case _ => \n",
        "            this.apply(Converter.toStringId(sr.getTraceId), Converter.toStringId(sr.getSpanId), \"unrecognized\")\n",
        "    }\n",
        "}\n",
        "\n",
        "\n",
        "// Definition of Resources (originally ``Processes`` in OpenTracing)\n",
        "case class Resource(name: String, attributes: Map[String, String])\n",
        "\n",
        "object Resource {\n",
        "    def apply(name: String, attributes: Map[String, String]): Resource = new Resource(name, attributes)\n",
        "\n",
        "    def of(ps: ProtoSpan): Resource = {\n",
        "        val res = ps.getProcess\n",
        "\n",
        "        this.apply(res.getServiceName, Converter.toMap(res.getTagsList))\n",
        "    }\n",
        "}\n",
        "\n",
        "\n",
        "// Defintion of Spans\n",
        "case class Span(\n",
        "                 spanId: String,\n",
        "                 traceId: String,\n",
        "                 startTime: LocalDateTime,\n",
        "                 duration: Duration,\n",
        "                 references: List[ReferenceId],\n",
        "                 attributes: Map[String, String],\n",
        "                 operationName: String,\n",
        "                 resourceId: String\n",
        "               )\n",
        "object Span {\n",
        "    def apply(\n",
        "               spanId: String,\n",
        "               traceId: String,\n",
        "               startTime: LocalDateTime,\n",
        "               duration: Duration,\n",
        "               references: List[ReferenceId],\n",
        "               attributes: Map[String, String],\n",
        "               operationKey: String,\n",
        "               resourceKey: String\n",
        "            ): Span = new Span(spanId, traceId, startTime, duration, references, attributes, operationKey, resourceKey)\n",
        "\n",
        "    def of(ps: ProtoSpan, getOperationKey: (ProtoSpan) => String, getResourceKey: (ProtoSpan) => String): Span = \n",
        "        this.apply(\n",
        "            spanId       = Converter.toStringId(ps.getSpanId),\n",
        "            traceId      = Converter.toStringId(ps.getTraceId),\n",
        "            startTime    = Converter.toLocalDateTime(ps.getStartTime),\n",
        "            duration     = Converter.toDuration(ps.getDuration),\n",
        "            references   = ps.getReferencesList.asScala map { ReferenceId.of(_) } toList,\n",
        "            operationKey = getOperationKey(ps),\n",
        "            resourceKey  = getResourceKey(ps),\n",
        "            attributes   = Converter.toMap(ps.getTagsList)\n",
        "        )\n",
        "}\n",
        "\n",
        "\n",
        "// Definition of Trace as an aggregation of Spans\n",
        "case class Trace(traceId: String, spans: List[Span], operations: Map[String, Operation], resources: Map[String, Resource])\n",
        "object Trace {\n",
        "    def apply(traceId: String, spans: List[Span], operations: Map[String, Operation], resources: Map[String, Resource]): Trace = \n",
        "        new Trace(traceId, spans, operations, resources)\n",
        "\n",
        "    def of(traceId: String, protoSpans: List[ProtoSpan]): Trace = {\n",
        "        val getOperationIndex = (ps: ProtoSpan) => ps.getOperationName\n",
        "        val getResourceIndex  = (ps: ProtoSpan) => ps.getProcess.getServiceName\n",
        "\n",
        "        val operations: List[(String, Operation)] = for {\n",
        "            ps <- protoSpans\n",
        "        } yield (getOperationIndex(ps) -> Operation.of(ps))\n",
        "\n",
        "        val resources: List[(String, Resource)] = for {\n",
        "            ps <- protoSpans\n",
        "        } yield (getResourceIndex(ps) -> Resource.of(ps))\n",
        "        \n",
        "        val spans: List[Span] = for {\n",
        "            ps <- protoSpans\n",
        "        } yield Span.of(ps, getOperationIndex, getResourceIndex)\n",
        "\n",
        "        this.apply(traceId, spans, operations.toMap, resources.toMap)\n",
        "    }\n",
        "}"
      ],
      "outputs" : [
      ]
    },
    {
      "cell_type" : "markdown",
      "execution_count" : 7,
      "metadata" : {
        "language" : "text"
      },
      "language" : "text",
      "source" : [
        "## Extracting Traces out of the flow of Jaeger Spans from API\n",
        "\n",
        "\n",
        "<div>Once the model is defined, Jaeger data can be processed and parsed into our model. Here we process and aggregate 1 000 Spans from the API that we group by trace ID to construct Traces from our model.<br></div>"
      ],
      "outputs" : [
      ]
    },
    {
      "cell_type" : "code",
      "execution_count" : 8,
      "metadata" : {
        "cell.metadata.exec_info" : {
          "startTs" : 1598857423832,
          "endTs" : 1598857430497
        },
        "language" : "scala"
      },
      "language" : "scala",
      "source" : [
        "import io.jaegertracing.api_v2.Model.{Span => ProtoSpan}\n",
        "\n",
        "val spanList: List[ProtoSpan] = spanIterator take 1000 toList\n",
        "\n",
        "val protoTraces = spanList.groupBy(span => Converter.toStringId(span.getTraceId))\n",
        "\n",
        "val traces = protoTraces map { \n",
        "    case (tId, protoSpans) => Trace.of(tId, protoSpans)\n",
        "}\n",
        "\n",
        "for (t <- traces) {\n",
        "    println(s\"${t.traceId} has ${t.spans.size} spans in it.\")\n",
        "}"
      ],
      "outputs" : [
        {
          "name" : "stdout",
          "text" : [
            "2b3ec0117da2ee5bf10c9f395413d94c has 41 spans in it.\n",
            "77379f53fc3ab7465ca65938245d83ec has 44 spans in it.\n",
            "53f919516b2ad99a803bfb0e0dd8c66d has 8 spans in it.\n",
            "670abc9d26662400709288787ccfd681 has 1 spans in it.\n",
            "396ec7bfe047c373c8e50eb9694de7c2 has 41 spans in it.\n",
            "839709586bb0c0ef07f120181afbf360 has 41 spans in it.\n",
            "9c10e11c8cf7e63b449aafa4a7dd39fb has 41 spans in it.\n",
            "5dd2fa18f309f1d9e19fa51a7d610fc6 has 1 spans in it.\n",
            "c565db1f7a21a083b4f4b1593c6fa045 has 44 spans in it.\n",
            "3f54a6f0270e24c9892648fc264a2768 has 8 spans in it.\n",
            "e2ccd5190c783198f707ee8bb9294fd9 has 51 spans in it.\n",
            "b430a14643e282c3d2e2839860f7cc74 has 41 spans in it.\n",
            "6d5c2d5028e65dfa0dcf65555e477a25 has 41 spans in it.\n",
            "8d7a50d3b294fea70ac4ef9fc59c9304 has 1 spans in it.\n",
            "9d9342c2f4a438dcf7c07c3f57378da0 has 41 spans in it.\n",
            "f8cbf59e421df4a1c3c4f555704b314 has 1 spans in it.\n",
            "96b27f24414ab9cdf66bb7dde4674ab5 has 41 spans in it.\n",
            "8c066dbc67cac679e9db0885d1f33fa3 has 42 spans in it.\n",
            "cda78a99641c70862a262c8143cd63f6 has 1 spans in it.\n",
            "78d6e08889e19d57cbb8375dedf08e4f has 37 spans in it.\n",
            "8b6fe4069bfc7c5280e6603fd5e7ccb7 has 1 spans in it.\n",
            "df175c9eed6825c92d7ac970e3bd9fe9 has 41 spans in it.\n",
            "b1f2c136072ce8c155f6b601f630aafb has 41 spans in it.\n",
            "ccc0969de61e98282167eb686482ca1b has 42 spans in it.\n",
            "b08f0a0a65bffaeea225c3c6b55301a0 has 41 spans in it.\n",
            "24dbef16f100b8cd3168cf0aa9e625f7 has 1 spans in it.\n",
            "981038e237b4d4f76ecb95c79149b314 has 41 spans in it.\n",
            "72a1d71af8d455ebeaf44b6ee544d5a1 has 1 spans in it.\n",
            "3c44c6e9f07fa612772e107a85d24093 has 41 spans in it.\n",
            "7bddaed326f3cc98b1e428dec92ed9f3 has 44 spans in it.\n",
            "c6aa847d50a87ae0a2a99b0da26d624b has 41 spans in it.\n",
            "744b353c26edb1f6fa82d1349b0dbf45 has 8 spans in it.\n",
            "4af0c200fff269bebce5728233f0594e has 42 spans in it.\n",
            "c52ee12f7a43d0809aa837ec03e60e9f has 37 spans in it.\n",
            "529461f8a9b087eecbd9db3d1ebb9459 has 1 spans in it.\n",
            "9a58eacb2405ed1c205303e0ebc7aeca has 1 spans in it.\n",
            "66c946317ade828d2f76e2c55630632d has 8 spans in it.\n",
            "cde0db329a5162015aee232f4e858b0f has 1 spans in it.\n"
          ],
          "output_type" : "stream"
        }
      ]
    },
    {
      "cell_type" : "markdown",
      "execution_count" : 9,
      "metadata" : {
        "language" : "text"
      },
      "language" : "text",
      "source" : [
        "<div>Spans are now gathered into Traces, the trace Class can be tuned to add custom behavior that fits your analytics needs.</div><div><br></div><div>Voilà, Voilà<br></div>"
      ],
      "outputs" : [
      ]
    }
  ]
}