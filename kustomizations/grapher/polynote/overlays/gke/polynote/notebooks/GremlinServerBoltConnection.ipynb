{
  "metadata" : {
    "config" : {
      "dependencies" : {
        "scala" : [
          "org.neo4j.driver:neo4j-java-driver:1.7.5"
        ]
      },
      "exclusions" : [
      ],
      "repositories" : [
      ],
      "sparkConfig" : {
        
      },
      "env" : {
        
      }
    },
    "language_info" : {
      "name" : "scala"
    }
  },
  "nbformat" : 4,
  "nbformat_minor" : 0,
  "cells" : [
    {
      "cell_type" : "markdown",
      "execution_count" : 0,
      "metadata" : {
        "language" : "text"
      },
      "language" : "text",
      "source" : [
        "# GremlinServerBoltConnection\n",
        "\n",
        "\n",
        "This Notebook queries the same graph as the gremlin-server Notebook but with the Cypher query language<br>\n",
        "\n",
        "\n"
      ],
      "outputs" : [
      ]
    },
    {
      "cell_type" : "code",
      "execution_count" : 1,
      "metadata" : {
        "cell.metadata.exec_info" : {
          "startTs" : 1598280042215,
          "endTs" : 1598280047590
        },
        "language" : "scala"
      },
      "language" : "scala",
      "source" : [
        "import org.neo4j.driver.v1._\n",
        "\n",
        "val driver = GraphDatabase.driver(\"bolt://gremlinserver-neo4j/7687\")"
      ],
      "outputs" : [
      ]
    },
    {
      "cell_type" : "code",
      "execution_count" : 2,
      "metadata" : {
        "cell.metadata.exec_info" : {
          "startTs" : 1598280053677,
          "endTs" : 1598280058219
        },
        "language" : "scala"
      },
      "language" : "scala",
      "source" : [
        "import scala.collection.JavaConverters._\n",
        "\n",
        "val session = driver.session\n",
        "val result = session.run(\"\"\"MATCH (node) RETURN node\"\"\")\n",
        "\n",
        "val allNodeRecords = for {\n",
        "    record <- result.list.asScala\n",
        "} yield record"
      ],
      "outputs" : [
      ]
    },
    {
      "cell_type" : "code",
      "execution_count" : 3,
      "metadata" : {
        "cell.metadata.exec_info" : {
          "startTs" : 1598280064732,
          "endTs" : 1598280065726
        },
        "language" : "scala"
      },
      "language" : "scala",
      "source" : [
        "session.close()"
      ],
      "outputs" : [
      ]
    }
  ]
}